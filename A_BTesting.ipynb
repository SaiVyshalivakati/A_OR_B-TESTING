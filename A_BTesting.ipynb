{
  "nbformat": 4,
  "nbformat_minor": 0,
  "metadata": {
    "colab": {
      "provenance": []
    },
    "kernelspec": {
      "name": "python3",
      "display_name": "Python 3"
    },
    "language_info": {
      "name": "python"
    }
  },
  "cells": [
    {
      "cell_type": "code",
      "execution_count": null,
      "metadata": {
        "colab": {
          "base_uri": "https://localhost:8080/",
          "height": 74
        },
        "id": "_I524cVerdkU",
        "outputId": "c385417a-1cb9-4090-d63d-65a6bcc9e331"
      },
      "outputs": [
        {
          "output_type": "display_data",
          "data": {
            "text/plain": [
              "<IPython.core.display.HTML object>"
            ],
            "text/html": [
              "\n",
              "     <input type=\"file\" id=\"files-9f5b1f63-8158-4903-b9e6-ece4f260d176\" name=\"files[]\" multiple disabled\n",
              "        style=\"border:none\" />\n",
              "     <output id=\"result-9f5b1f63-8158-4903-b9e6-ece4f260d176\">\n",
              "      Upload widget is only available when the cell has been executed in the\n",
              "      current browser session. Please rerun this cell to enable.\n",
              "      </output>\n",
              "      <script>// Copyright 2017 Google LLC\n",
              "//\n",
              "// Licensed under the Apache License, Version 2.0 (the \"License\");\n",
              "// you may not use this file except in compliance with the License.\n",
              "// You may obtain a copy of the License at\n",
              "//\n",
              "//      http://www.apache.org/licenses/LICENSE-2.0\n",
              "//\n",
              "// Unless required by applicable law or agreed to in writing, software\n",
              "// distributed under the License is distributed on an \"AS IS\" BASIS,\n",
              "// WITHOUT WARRANTIES OR CONDITIONS OF ANY KIND, either express or implied.\n",
              "// See the License for the specific language governing permissions and\n",
              "// limitations under the License.\n",
              "\n",
              "/**\n",
              " * @fileoverview Helpers for google.colab Python module.\n",
              " */\n",
              "(function(scope) {\n",
              "function span(text, styleAttributes = {}) {\n",
              "  const element = document.createElement('span');\n",
              "  element.textContent = text;\n",
              "  for (const key of Object.keys(styleAttributes)) {\n",
              "    element.style[key] = styleAttributes[key];\n",
              "  }\n",
              "  return element;\n",
              "}\n",
              "\n",
              "// Max number of bytes which will be uploaded at a time.\n",
              "const MAX_PAYLOAD_SIZE = 100 * 1024;\n",
              "\n",
              "function _uploadFiles(inputId, outputId) {\n",
              "  const steps = uploadFilesStep(inputId, outputId);\n",
              "  const outputElement = document.getElementById(outputId);\n",
              "  // Cache steps on the outputElement to make it available for the next call\n",
              "  // to uploadFilesContinue from Python.\n",
              "  outputElement.steps = steps;\n",
              "\n",
              "  return _uploadFilesContinue(outputId);\n",
              "}\n",
              "\n",
              "// This is roughly an async generator (not supported in the browser yet),\n",
              "// where there are multiple asynchronous steps and the Python side is going\n",
              "// to poll for completion of each step.\n",
              "// This uses a Promise to block the python side on completion of each step,\n",
              "// then passes the result of the previous step as the input to the next step.\n",
              "function _uploadFilesContinue(outputId) {\n",
              "  const outputElement = document.getElementById(outputId);\n",
              "  const steps = outputElement.steps;\n",
              "\n",
              "  const next = steps.next(outputElement.lastPromiseValue);\n",
              "  return Promise.resolve(next.value.promise).then((value) => {\n",
              "    // Cache the last promise value to make it available to the next\n",
              "    // step of the generator.\n",
              "    outputElement.lastPromiseValue = value;\n",
              "    return next.value.response;\n",
              "  });\n",
              "}\n",
              "\n",
              "/**\n",
              " * Generator function which is called between each async step of the upload\n",
              " * process.\n",
              " * @param {string} inputId Element ID of the input file picker element.\n",
              " * @param {string} outputId Element ID of the output display.\n",
              " * @return {!Iterable<!Object>} Iterable of next steps.\n",
              " */\n",
              "function* uploadFilesStep(inputId, outputId) {\n",
              "  const inputElement = document.getElementById(inputId);\n",
              "  inputElement.disabled = false;\n",
              "\n",
              "  const outputElement = document.getElementById(outputId);\n",
              "  outputElement.innerHTML = '';\n",
              "\n",
              "  const pickedPromise = new Promise((resolve) => {\n",
              "    inputElement.addEventListener('change', (e) => {\n",
              "      resolve(e.target.files);\n",
              "    });\n",
              "  });\n",
              "\n",
              "  const cancel = document.createElement('button');\n",
              "  inputElement.parentElement.appendChild(cancel);\n",
              "  cancel.textContent = 'Cancel upload';\n",
              "  const cancelPromise = new Promise((resolve) => {\n",
              "    cancel.onclick = () => {\n",
              "      resolve(null);\n",
              "    };\n",
              "  });\n",
              "\n",
              "  // Wait for the user to pick the files.\n",
              "  const files = yield {\n",
              "    promise: Promise.race([pickedPromise, cancelPromise]),\n",
              "    response: {\n",
              "      action: 'starting',\n",
              "    }\n",
              "  };\n",
              "\n",
              "  cancel.remove();\n",
              "\n",
              "  // Disable the input element since further picks are not allowed.\n",
              "  inputElement.disabled = true;\n",
              "\n",
              "  if (!files) {\n",
              "    return {\n",
              "      response: {\n",
              "        action: 'complete',\n",
              "      }\n",
              "    };\n",
              "  }\n",
              "\n",
              "  for (const file of files) {\n",
              "    const li = document.createElement('li');\n",
              "    li.append(span(file.name, {fontWeight: 'bold'}));\n",
              "    li.append(span(\n",
              "        `(${file.type || 'n/a'}) - ${file.size} bytes, ` +\n",
              "        `last modified: ${\n",
              "            file.lastModifiedDate ? file.lastModifiedDate.toLocaleDateString() :\n",
              "                                    'n/a'} - `));\n",
              "    const percent = span('0% done');\n",
              "    li.appendChild(percent);\n",
              "\n",
              "    outputElement.appendChild(li);\n",
              "\n",
              "    const fileDataPromise = new Promise((resolve) => {\n",
              "      const reader = new FileReader();\n",
              "      reader.onload = (e) => {\n",
              "        resolve(e.target.result);\n",
              "      };\n",
              "      reader.readAsArrayBuffer(file);\n",
              "    });\n",
              "    // Wait for the data to be ready.\n",
              "    let fileData = yield {\n",
              "      promise: fileDataPromise,\n",
              "      response: {\n",
              "        action: 'continue',\n",
              "      }\n",
              "    };\n",
              "\n",
              "    // Use a chunked sending to avoid message size limits. See b/62115660.\n",
              "    let position = 0;\n",
              "    do {\n",
              "      const length = Math.min(fileData.byteLength - position, MAX_PAYLOAD_SIZE);\n",
              "      const chunk = new Uint8Array(fileData, position, length);\n",
              "      position += length;\n",
              "\n",
              "      const base64 = btoa(String.fromCharCode.apply(null, chunk));\n",
              "      yield {\n",
              "        response: {\n",
              "          action: 'append',\n",
              "          file: file.name,\n",
              "          data: base64,\n",
              "        },\n",
              "      };\n",
              "\n",
              "      let percentDone = fileData.byteLength === 0 ?\n",
              "          100 :\n",
              "          Math.round((position / fileData.byteLength) * 100);\n",
              "      percent.textContent = `${percentDone}% done`;\n",
              "\n",
              "    } while (position < fileData.byteLength);\n",
              "  }\n",
              "\n",
              "  // All done.\n",
              "  yield {\n",
              "    response: {\n",
              "      action: 'complete',\n",
              "    }\n",
              "  };\n",
              "}\n",
              "\n",
              "scope.google = scope.google || {};\n",
              "scope.google.colab = scope.google.colab || {};\n",
              "scope.google.colab._files = {\n",
              "  _uploadFiles,\n",
              "  _uploadFilesContinue,\n",
              "};\n",
              "})(self);\n",
              "</script> "
            ]
          },
          "metadata": {}
        },
        {
          "output_type": "stream",
          "name": "stdout",
          "text": [
            "Saving E-commerce Customer Behavior - Sheet1 2.csv to E-commerce Customer Behavior - Sheet1 2.csv\n"
          ]
        }
      ],
      "source": [
        "from google.colab import files\n",
        "uploaded=files.upload()"
      ]
    },
    {
      "cell_type": "code",
      "source": [
        "import pandas as pd\n",
        "df=pd.read_csv(\"E-commerce Customer Behavior - Sheet1 2.csv\")\n",
        "df.head()"
      ],
      "metadata": {
        "colab": {
          "base_uri": "https://localhost:8080/",
          "height": 313
        },
        "id": "ktq2-LOkrrN2",
        "outputId": "b63fd9dc-c496-4e54-e0a9-1e2ed87521cb"
      },
      "execution_count": null,
      "outputs": [
        {
          "output_type": "execute_result",
          "data": {
            "text/plain": [
              "   Customer ID  Gender  Age           City Membership Type  Total Spend  \\\n",
              "0          101  Female   29       New York            Gold      1120.20   \n",
              "1          102    Male   34    Los Angeles          Silver       780.50   \n",
              "2          103  Female   43        Chicago          Bronze       510.75   \n",
              "3          104    Male   30  San Francisco            Gold      1480.30   \n",
              "4          105    Male   27          Miami          Silver       720.40   \n",
              "\n",
              "   Items Purchased  Average Rating  Discount Applied  \\\n",
              "0               14             4.6              True   \n",
              "1               11             4.1             False   \n",
              "2                9             3.4              True   \n",
              "3               19             4.7             False   \n",
              "4               13             4.0              True   \n",
              "\n",
              "   Days Since Last Purchase Satisfaction Level  \n",
              "0                        25          Satisfied  \n",
              "1                        18            Neutral  \n",
              "2                        42        Unsatisfied  \n",
              "3                        12          Satisfied  \n",
              "4                        55        Unsatisfied  "
            ],
            "text/html": [
              "\n",
              "  <div id=\"df-df26cef9-2d02-4051-9f02-7417ed38d761\" class=\"colab-df-container\">\n",
              "    <div>\n",
              "<style scoped>\n",
              "    .dataframe tbody tr th:only-of-type {\n",
              "        vertical-align: middle;\n",
              "    }\n",
              "\n",
              "    .dataframe tbody tr th {\n",
              "        vertical-align: top;\n",
              "    }\n",
              "\n",
              "    .dataframe thead th {\n",
              "        text-align: right;\n",
              "    }\n",
              "</style>\n",
              "<table border=\"1\" class=\"dataframe\">\n",
              "  <thead>\n",
              "    <tr style=\"text-align: right;\">\n",
              "      <th></th>\n",
              "      <th>Customer ID</th>\n",
              "      <th>Gender</th>\n",
              "      <th>Age</th>\n",
              "      <th>City</th>\n",
              "      <th>Membership Type</th>\n",
              "      <th>Total Spend</th>\n",
              "      <th>Items Purchased</th>\n",
              "      <th>Average Rating</th>\n",
              "      <th>Discount Applied</th>\n",
              "      <th>Days Since Last Purchase</th>\n",
              "      <th>Satisfaction Level</th>\n",
              "    </tr>\n",
              "  </thead>\n",
              "  <tbody>\n",
              "    <tr>\n",
              "      <th>0</th>\n",
              "      <td>101</td>\n",
              "      <td>Female</td>\n",
              "      <td>29</td>\n",
              "      <td>New York</td>\n",
              "      <td>Gold</td>\n",
              "      <td>1120.20</td>\n",
              "      <td>14</td>\n",
              "      <td>4.6</td>\n",
              "      <td>True</td>\n",
              "      <td>25</td>\n",
              "      <td>Satisfied</td>\n",
              "    </tr>\n",
              "    <tr>\n",
              "      <th>1</th>\n",
              "      <td>102</td>\n",
              "      <td>Male</td>\n",
              "      <td>34</td>\n",
              "      <td>Los Angeles</td>\n",
              "      <td>Silver</td>\n",
              "      <td>780.50</td>\n",
              "      <td>11</td>\n",
              "      <td>4.1</td>\n",
              "      <td>False</td>\n",
              "      <td>18</td>\n",
              "      <td>Neutral</td>\n",
              "    </tr>\n",
              "    <tr>\n",
              "      <th>2</th>\n",
              "      <td>103</td>\n",
              "      <td>Female</td>\n",
              "      <td>43</td>\n",
              "      <td>Chicago</td>\n",
              "      <td>Bronze</td>\n",
              "      <td>510.75</td>\n",
              "      <td>9</td>\n",
              "      <td>3.4</td>\n",
              "      <td>True</td>\n",
              "      <td>42</td>\n",
              "      <td>Unsatisfied</td>\n",
              "    </tr>\n",
              "    <tr>\n",
              "      <th>3</th>\n",
              "      <td>104</td>\n",
              "      <td>Male</td>\n",
              "      <td>30</td>\n",
              "      <td>San Francisco</td>\n",
              "      <td>Gold</td>\n",
              "      <td>1480.30</td>\n",
              "      <td>19</td>\n",
              "      <td>4.7</td>\n",
              "      <td>False</td>\n",
              "      <td>12</td>\n",
              "      <td>Satisfied</td>\n",
              "    </tr>\n",
              "    <tr>\n",
              "      <th>4</th>\n",
              "      <td>105</td>\n",
              "      <td>Male</td>\n",
              "      <td>27</td>\n",
              "      <td>Miami</td>\n",
              "      <td>Silver</td>\n",
              "      <td>720.40</td>\n",
              "      <td>13</td>\n",
              "      <td>4.0</td>\n",
              "      <td>True</td>\n",
              "      <td>55</td>\n",
              "      <td>Unsatisfied</td>\n",
              "    </tr>\n",
              "  </tbody>\n",
              "</table>\n",
              "</div>\n",
              "    <div class=\"colab-df-buttons\">\n",
              "\n",
              "  <div class=\"colab-df-container\">\n",
              "    <button class=\"colab-df-convert\" onclick=\"convertToInteractive('df-df26cef9-2d02-4051-9f02-7417ed38d761')\"\n",
              "            title=\"Convert this dataframe to an interactive table.\"\n",
              "            style=\"display:none;\">\n",
              "\n",
              "  <svg xmlns=\"http://www.w3.org/2000/svg\" height=\"24px\" viewBox=\"0 -960 960 960\">\n",
              "    <path d=\"M120-120v-720h720v720H120Zm60-500h600v-160H180v160Zm220 220h160v-160H400v160Zm0 220h160v-160H400v160ZM180-400h160v-160H180v160Zm440 0h160v-160H620v160ZM180-180h160v-160H180v160Zm440 0h160v-160H620v160Z\"/>\n",
              "  </svg>\n",
              "    </button>\n",
              "\n",
              "  <style>\n",
              "    .colab-df-container {\n",
              "      display:flex;\n",
              "      gap: 12px;\n",
              "    }\n",
              "\n",
              "    .colab-df-convert {\n",
              "      background-color: #E8F0FE;\n",
              "      border: none;\n",
              "      border-radius: 50%;\n",
              "      cursor: pointer;\n",
              "      display: none;\n",
              "      fill: #1967D2;\n",
              "      height: 32px;\n",
              "      padding: 0 0 0 0;\n",
              "      width: 32px;\n",
              "    }\n",
              "\n",
              "    .colab-df-convert:hover {\n",
              "      background-color: #E2EBFA;\n",
              "      box-shadow: 0px 1px 2px rgba(60, 64, 67, 0.3), 0px 1px 3px 1px rgba(60, 64, 67, 0.15);\n",
              "      fill: #174EA6;\n",
              "    }\n",
              "\n",
              "    .colab-df-buttons div {\n",
              "      margin-bottom: 4px;\n",
              "    }\n",
              "\n",
              "    [theme=dark] .colab-df-convert {\n",
              "      background-color: #3B4455;\n",
              "      fill: #D2E3FC;\n",
              "    }\n",
              "\n",
              "    [theme=dark] .colab-df-convert:hover {\n",
              "      background-color: #434B5C;\n",
              "      box-shadow: 0px 1px 3px 1px rgba(0, 0, 0, 0.15);\n",
              "      filter: drop-shadow(0px 1px 2px rgba(0, 0, 0, 0.3));\n",
              "      fill: #FFFFFF;\n",
              "    }\n",
              "  </style>\n",
              "\n",
              "    <script>\n",
              "      const buttonEl =\n",
              "        document.querySelector('#df-df26cef9-2d02-4051-9f02-7417ed38d761 button.colab-df-convert');\n",
              "      buttonEl.style.display =\n",
              "        google.colab.kernel.accessAllowed ? 'block' : 'none';\n",
              "\n",
              "      async function convertToInteractive(key) {\n",
              "        const element = document.querySelector('#df-df26cef9-2d02-4051-9f02-7417ed38d761');\n",
              "        const dataTable =\n",
              "          await google.colab.kernel.invokeFunction('convertToInteractive',\n",
              "                                                    [key], {});\n",
              "        if (!dataTable) return;\n",
              "\n",
              "        const docLinkHtml = 'Like what you see? Visit the ' +\n",
              "          '<a target=\"_blank\" href=https://colab.research.google.com/notebooks/data_table.ipynb>data table notebook</a>'\n",
              "          + ' to learn more about interactive tables.';\n",
              "        element.innerHTML = '';\n",
              "        dataTable['output_type'] = 'display_data';\n",
              "        await google.colab.output.renderOutput(dataTable, element);\n",
              "        const docLink = document.createElement('div');\n",
              "        docLink.innerHTML = docLinkHtml;\n",
              "        element.appendChild(docLink);\n",
              "      }\n",
              "    </script>\n",
              "  </div>\n",
              "\n",
              "\n",
              "<div id=\"df-0bf0ecb9-124c-4021-9ec9-e097f65bda96\">\n",
              "  <button class=\"colab-df-quickchart\" onclick=\"quickchart('df-0bf0ecb9-124c-4021-9ec9-e097f65bda96')\"\n",
              "            title=\"Suggest charts\"\n",
              "            style=\"display:none;\">\n",
              "\n",
              "<svg xmlns=\"http://www.w3.org/2000/svg\" height=\"24px\"viewBox=\"0 0 24 24\"\n",
              "     width=\"24px\">\n",
              "    <g>\n",
              "        <path d=\"M19 3H5c-1.1 0-2 .9-2 2v14c0 1.1.9 2 2 2h14c1.1 0 2-.9 2-2V5c0-1.1-.9-2-2-2zM9 17H7v-7h2v7zm4 0h-2V7h2v10zm4 0h-2v-4h2v4z\"/>\n",
              "    </g>\n",
              "</svg>\n",
              "  </button>\n",
              "\n",
              "<style>\n",
              "  .colab-df-quickchart {\n",
              "      --bg-color: #E8F0FE;\n",
              "      --fill-color: #1967D2;\n",
              "      --hover-bg-color: #E2EBFA;\n",
              "      --hover-fill-color: #174EA6;\n",
              "      --disabled-fill-color: #AAA;\n",
              "      --disabled-bg-color: #DDD;\n",
              "  }\n",
              "\n",
              "  [theme=dark] .colab-df-quickchart {\n",
              "      --bg-color: #3B4455;\n",
              "      --fill-color: #D2E3FC;\n",
              "      --hover-bg-color: #434B5C;\n",
              "      --hover-fill-color: #FFFFFF;\n",
              "      --disabled-bg-color: #3B4455;\n",
              "      --disabled-fill-color: #666;\n",
              "  }\n",
              "\n",
              "  .colab-df-quickchart {\n",
              "    background-color: var(--bg-color);\n",
              "    border: none;\n",
              "    border-radius: 50%;\n",
              "    cursor: pointer;\n",
              "    display: none;\n",
              "    fill: var(--fill-color);\n",
              "    height: 32px;\n",
              "    padding: 0;\n",
              "    width: 32px;\n",
              "  }\n",
              "\n",
              "  .colab-df-quickchart:hover {\n",
              "    background-color: var(--hover-bg-color);\n",
              "    box-shadow: 0 1px 2px rgba(60, 64, 67, 0.3), 0 1px 3px 1px rgba(60, 64, 67, 0.15);\n",
              "    fill: var(--button-hover-fill-color);\n",
              "  }\n",
              "\n",
              "  .colab-df-quickchart-complete:disabled,\n",
              "  .colab-df-quickchart-complete:disabled:hover {\n",
              "    background-color: var(--disabled-bg-color);\n",
              "    fill: var(--disabled-fill-color);\n",
              "    box-shadow: none;\n",
              "  }\n",
              "\n",
              "  .colab-df-spinner {\n",
              "    border: 2px solid var(--fill-color);\n",
              "    border-color: transparent;\n",
              "    border-bottom-color: var(--fill-color);\n",
              "    animation:\n",
              "      spin 1s steps(1) infinite;\n",
              "  }\n",
              "\n",
              "  @keyframes spin {\n",
              "    0% {\n",
              "      border-color: transparent;\n",
              "      border-bottom-color: var(--fill-color);\n",
              "      border-left-color: var(--fill-color);\n",
              "    }\n",
              "    20% {\n",
              "      border-color: transparent;\n",
              "      border-left-color: var(--fill-color);\n",
              "      border-top-color: var(--fill-color);\n",
              "    }\n",
              "    30% {\n",
              "      border-color: transparent;\n",
              "      border-left-color: var(--fill-color);\n",
              "      border-top-color: var(--fill-color);\n",
              "      border-right-color: var(--fill-color);\n",
              "    }\n",
              "    40% {\n",
              "      border-color: transparent;\n",
              "      border-right-color: var(--fill-color);\n",
              "      border-top-color: var(--fill-color);\n",
              "    }\n",
              "    60% {\n",
              "      border-color: transparent;\n",
              "      border-right-color: var(--fill-color);\n",
              "    }\n",
              "    80% {\n",
              "      border-color: transparent;\n",
              "      border-right-color: var(--fill-color);\n",
              "      border-bottom-color: var(--fill-color);\n",
              "    }\n",
              "    90% {\n",
              "      border-color: transparent;\n",
              "      border-bottom-color: var(--fill-color);\n",
              "    }\n",
              "  }\n",
              "</style>\n",
              "\n",
              "  <script>\n",
              "    async function quickchart(key) {\n",
              "      const quickchartButtonEl =\n",
              "        document.querySelector('#' + key + ' button');\n",
              "      quickchartButtonEl.disabled = true;  // To prevent multiple clicks.\n",
              "      quickchartButtonEl.classList.add('colab-df-spinner');\n",
              "      try {\n",
              "        const charts = await google.colab.kernel.invokeFunction(\n",
              "            'suggestCharts', [key], {});\n",
              "      } catch (error) {\n",
              "        console.error('Error during call to suggestCharts:', error);\n",
              "      }\n",
              "      quickchartButtonEl.classList.remove('colab-df-spinner');\n",
              "      quickchartButtonEl.classList.add('colab-df-quickchart-complete');\n",
              "    }\n",
              "    (() => {\n",
              "      let quickchartButtonEl =\n",
              "        document.querySelector('#df-0bf0ecb9-124c-4021-9ec9-e097f65bda96 button');\n",
              "      quickchartButtonEl.style.display =\n",
              "        google.colab.kernel.accessAllowed ? 'block' : 'none';\n",
              "    })();\n",
              "  </script>\n",
              "</div>\n",
              "\n",
              "    </div>\n",
              "  </div>\n"
            ],
            "application/vnd.google.colaboratory.intrinsic+json": {
              "type": "dataframe",
              "variable_name": "df",
              "summary": "{\n  \"name\": \"df\",\n  \"rows\": 350,\n  \"fields\": [\n    {\n      \"column\": \"Customer ID\",\n      \"properties\": {\n        \"dtype\": \"number\",\n        \"std\": 101,\n        \"min\": 101,\n        \"max\": 450,\n        \"num_unique_values\": 350,\n        \"samples\": [\n          258,\n          442,\n          416\n        ],\n        \"semantic_type\": \"\",\n        \"description\": \"\"\n      }\n    },\n    {\n      \"column\": \"Gender\",\n      \"properties\": {\n        \"dtype\": \"category\",\n        \"num_unique_values\": 2,\n        \"samples\": [\n          \"Male\",\n          \"Female\"\n        ],\n        \"semantic_type\": \"\",\n        \"description\": \"\"\n      }\n    },\n    {\n      \"column\": \"Age\",\n      \"properties\": {\n        \"dtype\": \"number\",\n        \"std\": 4,\n        \"min\": 26,\n        \"max\": 43,\n        \"num_unique_values\": 16,\n        \"samples\": [\n          29,\n          34\n        ],\n        \"semantic_type\": \"\",\n        \"description\": \"\"\n      }\n    },\n    {\n      \"column\": \"City\",\n      \"properties\": {\n        \"dtype\": \"category\",\n        \"num_unique_values\": 6,\n        \"samples\": [\n          \"New York\",\n          \"Los Angeles\"\n        ],\n        \"semantic_type\": \"\",\n        \"description\": \"\"\n      }\n    },\n    {\n      \"column\": \"Membership Type\",\n      \"properties\": {\n        \"dtype\": \"category\",\n        \"num_unique_values\": 3,\n        \"samples\": [\n          \"Gold\",\n          \"Silver\"\n        ],\n        \"semantic_type\": \"\",\n        \"description\": \"\"\n      }\n    },\n    {\n      \"column\": \"Total Spend\",\n      \"properties\": {\n        \"dtype\": \"number\",\n        \"std\": 362.05869534746563,\n        \"min\": 410.8,\n        \"max\": 1520.1,\n        \"num_unique_values\": 76,\n        \"samples\": [\n          720.4,\n          440.9\n        ],\n        \"semantic_type\": \"\",\n        \"description\": \"\"\n      }\n    },\n    {\n      \"column\": \"Items Purchased\",\n      \"properties\": {\n        \"dtype\": \"number\",\n        \"std\": 4,\n        \"min\": 7,\n        \"max\": 21,\n        \"num_unique_values\": 15,\n        \"samples\": [\n          21,\n          16\n        ],\n        \"semantic_type\": \"\",\n        \"description\": \"\"\n      }\n    },\n    {\n      \"column\": \"Average Rating\",\n      \"properties\": {\n        \"dtype\": \"number\",\n        \"std\": 0.580538587146968,\n        \"min\": 3.0,\n        \"max\": 4.9,\n        \"num_unique_values\": 20,\n        \"samples\": [\n          4.6,\n          3.0\n        ],\n        \"semantic_type\": \"\",\n        \"description\": \"\"\n      }\n    },\n    {\n      \"column\": \"Discount Applied\",\n      \"properties\": {\n        \"dtype\": \"boolean\",\n        \"num_unique_values\": 2,\n        \"samples\": [\n          false,\n          true\n        ],\n        \"semantic_type\": \"\",\n        \"description\": \"\"\n      }\n    },\n    {\n      \"column\": \"Days Since Last Purchase\",\n      \"properties\": {\n        \"dtype\": \"number\",\n        \"std\": 13,\n        \"min\": 9,\n        \"max\": 63,\n        \"num_unique_values\": 54,\n        \"samples\": [\n          41,\n          60\n        ],\n        \"semantic_type\": \"\",\n        \"description\": \"\"\n      }\n    },\n    {\n      \"column\": \"Satisfaction Level\",\n      \"properties\": {\n        \"dtype\": \"category\",\n        \"num_unique_values\": 3,\n        \"samples\": [\n          \"Satisfied\",\n          \"Neutral\"\n        ],\n        \"semantic_type\": \"\",\n        \"description\": \"\"\n      }\n    }\n  ]\n}"
            }
          },
          "metadata": {},
          "execution_count": 202
        }
      ]
    },
    {
      "cell_type": "code",
      "source": [
        "df[\"Discount Applied\"]=df[\"Discount Applied\"].map({True:1,False:0})\n",
        "df.head()"
      ],
      "metadata": {
        "colab": {
          "base_uri": "https://localhost:8080/",
          "height": 313
        },
        "id": "6OrstHS97xi1",
        "outputId": "687e1ea8-7d68-481d-92ab-cc7e9c15a805"
      },
      "execution_count": null,
      "outputs": [
        {
          "output_type": "execute_result",
          "data": {
            "text/plain": [
              "   Customer ID  Gender  Age           City Membership Type  Total Spend  \\\n",
              "0          101  Female   29       New York            Gold      1120.20   \n",
              "1          102    Male   34    Los Angeles          Silver       780.50   \n",
              "2          103  Female   43        Chicago          Bronze       510.75   \n",
              "3          104    Male   30  San Francisco            Gold      1480.30   \n",
              "4          105    Male   27          Miami          Silver       720.40   \n",
              "\n",
              "   Items Purchased  Average Rating  Discount Applied  \\\n",
              "0               14             4.6                 1   \n",
              "1               11             4.1                 0   \n",
              "2                9             3.4                 1   \n",
              "3               19             4.7                 0   \n",
              "4               13             4.0                 1   \n",
              "\n",
              "   Days Since Last Purchase Satisfaction Level  \n",
              "0                        25          Satisfied  \n",
              "1                        18            Neutral  \n",
              "2                        42        Unsatisfied  \n",
              "3                        12          Satisfied  \n",
              "4                        55        Unsatisfied  "
            ],
            "text/html": [
              "\n",
              "  <div id=\"df-4ed922fb-0bc9-40de-bdd0-49f78bbf21da\" class=\"colab-df-container\">\n",
              "    <div>\n",
              "<style scoped>\n",
              "    .dataframe tbody tr th:only-of-type {\n",
              "        vertical-align: middle;\n",
              "    }\n",
              "\n",
              "    .dataframe tbody tr th {\n",
              "        vertical-align: top;\n",
              "    }\n",
              "\n",
              "    .dataframe thead th {\n",
              "        text-align: right;\n",
              "    }\n",
              "</style>\n",
              "<table border=\"1\" class=\"dataframe\">\n",
              "  <thead>\n",
              "    <tr style=\"text-align: right;\">\n",
              "      <th></th>\n",
              "      <th>Customer ID</th>\n",
              "      <th>Gender</th>\n",
              "      <th>Age</th>\n",
              "      <th>City</th>\n",
              "      <th>Membership Type</th>\n",
              "      <th>Total Spend</th>\n",
              "      <th>Items Purchased</th>\n",
              "      <th>Average Rating</th>\n",
              "      <th>Discount Applied</th>\n",
              "      <th>Days Since Last Purchase</th>\n",
              "      <th>Satisfaction Level</th>\n",
              "    </tr>\n",
              "  </thead>\n",
              "  <tbody>\n",
              "    <tr>\n",
              "      <th>0</th>\n",
              "      <td>101</td>\n",
              "      <td>Female</td>\n",
              "      <td>29</td>\n",
              "      <td>New York</td>\n",
              "      <td>Gold</td>\n",
              "      <td>1120.20</td>\n",
              "      <td>14</td>\n",
              "      <td>4.6</td>\n",
              "      <td>1</td>\n",
              "      <td>25</td>\n",
              "      <td>Satisfied</td>\n",
              "    </tr>\n",
              "    <tr>\n",
              "      <th>1</th>\n",
              "      <td>102</td>\n",
              "      <td>Male</td>\n",
              "      <td>34</td>\n",
              "      <td>Los Angeles</td>\n",
              "      <td>Silver</td>\n",
              "      <td>780.50</td>\n",
              "      <td>11</td>\n",
              "      <td>4.1</td>\n",
              "      <td>0</td>\n",
              "      <td>18</td>\n",
              "      <td>Neutral</td>\n",
              "    </tr>\n",
              "    <tr>\n",
              "      <th>2</th>\n",
              "      <td>103</td>\n",
              "      <td>Female</td>\n",
              "      <td>43</td>\n",
              "      <td>Chicago</td>\n",
              "      <td>Bronze</td>\n",
              "      <td>510.75</td>\n",
              "      <td>9</td>\n",
              "      <td>3.4</td>\n",
              "      <td>1</td>\n",
              "      <td>42</td>\n",
              "      <td>Unsatisfied</td>\n",
              "    </tr>\n",
              "    <tr>\n",
              "      <th>3</th>\n",
              "      <td>104</td>\n",
              "      <td>Male</td>\n",
              "      <td>30</td>\n",
              "      <td>San Francisco</td>\n",
              "      <td>Gold</td>\n",
              "      <td>1480.30</td>\n",
              "      <td>19</td>\n",
              "      <td>4.7</td>\n",
              "      <td>0</td>\n",
              "      <td>12</td>\n",
              "      <td>Satisfied</td>\n",
              "    </tr>\n",
              "    <tr>\n",
              "      <th>4</th>\n",
              "      <td>105</td>\n",
              "      <td>Male</td>\n",
              "      <td>27</td>\n",
              "      <td>Miami</td>\n",
              "      <td>Silver</td>\n",
              "      <td>720.40</td>\n",
              "      <td>13</td>\n",
              "      <td>4.0</td>\n",
              "      <td>1</td>\n",
              "      <td>55</td>\n",
              "      <td>Unsatisfied</td>\n",
              "    </tr>\n",
              "  </tbody>\n",
              "</table>\n",
              "</div>\n",
              "    <div class=\"colab-df-buttons\">\n",
              "\n",
              "  <div class=\"colab-df-container\">\n",
              "    <button class=\"colab-df-convert\" onclick=\"convertToInteractive('df-4ed922fb-0bc9-40de-bdd0-49f78bbf21da')\"\n",
              "            title=\"Convert this dataframe to an interactive table.\"\n",
              "            style=\"display:none;\">\n",
              "\n",
              "  <svg xmlns=\"http://www.w3.org/2000/svg\" height=\"24px\" viewBox=\"0 -960 960 960\">\n",
              "    <path d=\"M120-120v-720h720v720H120Zm60-500h600v-160H180v160Zm220 220h160v-160H400v160Zm0 220h160v-160H400v160ZM180-400h160v-160H180v160Zm440 0h160v-160H620v160ZM180-180h160v-160H180v160Zm440 0h160v-160H620v160Z\"/>\n",
              "  </svg>\n",
              "    </button>\n",
              "\n",
              "  <style>\n",
              "    .colab-df-container {\n",
              "      display:flex;\n",
              "      gap: 12px;\n",
              "    }\n",
              "\n",
              "    .colab-df-convert {\n",
              "      background-color: #E8F0FE;\n",
              "      border: none;\n",
              "      border-radius: 50%;\n",
              "      cursor: pointer;\n",
              "      display: none;\n",
              "      fill: #1967D2;\n",
              "      height: 32px;\n",
              "      padding: 0 0 0 0;\n",
              "      width: 32px;\n",
              "    }\n",
              "\n",
              "    .colab-df-convert:hover {\n",
              "      background-color: #E2EBFA;\n",
              "      box-shadow: 0px 1px 2px rgba(60, 64, 67, 0.3), 0px 1px 3px 1px rgba(60, 64, 67, 0.15);\n",
              "      fill: #174EA6;\n",
              "    }\n",
              "\n",
              "    .colab-df-buttons div {\n",
              "      margin-bottom: 4px;\n",
              "    }\n",
              "\n",
              "    [theme=dark] .colab-df-convert {\n",
              "      background-color: #3B4455;\n",
              "      fill: #D2E3FC;\n",
              "    }\n",
              "\n",
              "    [theme=dark] .colab-df-convert:hover {\n",
              "      background-color: #434B5C;\n",
              "      box-shadow: 0px 1px 3px 1px rgba(0, 0, 0, 0.15);\n",
              "      filter: drop-shadow(0px 1px 2px rgba(0, 0, 0, 0.3));\n",
              "      fill: #FFFFFF;\n",
              "    }\n",
              "  </style>\n",
              "\n",
              "    <script>\n",
              "      const buttonEl =\n",
              "        document.querySelector('#df-4ed922fb-0bc9-40de-bdd0-49f78bbf21da button.colab-df-convert');\n",
              "      buttonEl.style.display =\n",
              "        google.colab.kernel.accessAllowed ? 'block' : 'none';\n",
              "\n",
              "      async function convertToInteractive(key) {\n",
              "        const element = document.querySelector('#df-4ed922fb-0bc9-40de-bdd0-49f78bbf21da');\n",
              "        const dataTable =\n",
              "          await google.colab.kernel.invokeFunction('convertToInteractive',\n",
              "                                                    [key], {});\n",
              "        if (!dataTable) return;\n",
              "\n",
              "        const docLinkHtml = 'Like what you see? Visit the ' +\n",
              "          '<a target=\"_blank\" href=https://colab.research.google.com/notebooks/data_table.ipynb>data table notebook</a>'\n",
              "          + ' to learn more about interactive tables.';\n",
              "        element.innerHTML = '';\n",
              "        dataTable['output_type'] = 'display_data';\n",
              "        await google.colab.output.renderOutput(dataTable, element);\n",
              "        const docLink = document.createElement('div');\n",
              "        docLink.innerHTML = docLinkHtml;\n",
              "        element.appendChild(docLink);\n",
              "      }\n",
              "    </script>\n",
              "  </div>\n",
              "\n",
              "\n",
              "<div id=\"df-0790e3a8-e7b4-442e-846d-bb01e9c70ef7\">\n",
              "  <button class=\"colab-df-quickchart\" onclick=\"quickchart('df-0790e3a8-e7b4-442e-846d-bb01e9c70ef7')\"\n",
              "            title=\"Suggest charts\"\n",
              "            style=\"display:none;\">\n",
              "\n",
              "<svg xmlns=\"http://www.w3.org/2000/svg\" height=\"24px\"viewBox=\"0 0 24 24\"\n",
              "     width=\"24px\">\n",
              "    <g>\n",
              "        <path d=\"M19 3H5c-1.1 0-2 .9-2 2v14c0 1.1.9 2 2 2h14c1.1 0 2-.9 2-2V5c0-1.1-.9-2-2-2zM9 17H7v-7h2v7zm4 0h-2V7h2v10zm4 0h-2v-4h2v4z\"/>\n",
              "    </g>\n",
              "</svg>\n",
              "  </button>\n",
              "\n",
              "<style>\n",
              "  .colab-df-quickchart {\n",
              "      --bg-color: #E8F0FE;\n",
              "      --fill-color: #1967D2;\n",
              "      --hover-bg-color: #E2EBFA;\n",
              "      --hover-fill-color: #174EA6;\n",
              "      --disabled-fill-color: #AAA;\n",
              "      --disabled-bg-color: #DDD;\n",
              "  }\n",
              "\n",
              "  [theme=dark] .colab-df-quickchart {\n",
              "      --bg-color: #3B4455;\n",
              "      --fill-color: #D2E3FC;\n",
              "      --hover-bg-color: #434B5C;\n",
              "      --hover-fill-color: #FFFFFF;\n",
              "      --disabled-bg-color: #3B4455;\n",
              "      --disabled-fill-color: #666;\n",
              "  }\n",
              "\n",
              "  .colab-df-quickchart {\n",
              "    background-color: var(--bg-color);\n",
              "    border: none;\n",
              "    border-radius: 50%;\n",
              "    cursor: pointer;\n",
              "    display: none;\n",
              "    fill: var(--fill-color);\n",
              "    height: 32px;\n",
              "    padding: 0;\n",
              "    width: 32px;\n",
              "  }\n",
              "\n",
              "  .colab-df-quickchart:hover {\n",
              "    background-color: var(--hover-bg-color);\n",
              "    box-shadow: 0 1px 2px rgba(60, 64, 67, 0.3), 0 1px 3px 1px rgba(60, 64, 67, 0.15);\n",
              "    fill: var(--button-hover-fill-color);\n",
              "  }\n",
              "\n",
              "  .colab-df-quickchart-complete:disabled,\n",
              "  .colab-df-quickchart-complete:disabled:hover {\n",
              "    background-color: var(--disabled-bg-color);\n",
              "    fill: var(--disabled-fill-color);\n",
              "    box-shadow: none;\n",
              "  }\n",
              "\n",
              "  .colab-df-spinner {\n",
              "    border: 2px solid var(--fill-color);\n",
              "    border-color: transparent;\n",
              "    border-bottom-color: var(--fill-color);\n",
              "    animation:\n",
              "      spin 1s steps(1) infinite;\n",
              "  }\n",
              "\n",
              "  @keyframes spin {\n",
              "    0% {\n",
              "      border-color: transparent;\n",
              "      border-bottom-color: var(--fill-color);\n",
              "      border-left-color: var(--fill-color);\n",
              "    }\n",
              "    20% {\n",
              "      border-color: transparent;\n",
              "      border-left-color: var(--fill-color);\n",
              "      border-top-color: var(--fill-color);\n",
              "    }\n",
              "    30% {\n",
              "      border-color: transparent;\n",
              "      border-left-color: var(--fill-color);\n",
              "      border-top-color: var(--fill-color);\n",
              "      border-right-color: var(--fill-color);\n",
              "    }\n",
              "    40% {\n",
              "      border-color: transparent;\n",
              "      border-right-color: var(--fill-color);\n",
              "      border-top-color: var(--fill-color);\n",
              "    }\n",
              "    60% {\n",
              "      border-color: transparent;\n",
              "      border-right-color: var(--fill-color);\n",
              "    }\n",
              "    80% {\n",
              "      border-color: transparent;\n",
              "      border-right-color: var(--fill-color);\n",
              "      border-bottom-color: var(--fill-color);\n",
              "    }\n",
              "    90% {\n",
              "      border-color: transparent;\n",
              "      border-bottom-color: var(--fill-color);\n",
              "    }\n",
              "  }\n",
              "</style>\n",
              "\n",
              "  <script>\n",
              "    async function quickchart(key) {\n",
              "      const quickchartButtonEl =\n",
              "        document.querySelector('#' + key + ' button');\n",
              "      quickchartButtonEl.disabled = true;  // To prevent multiple clicks.\n",
              "      quickchartButtonEl.classList.add('colab-df-spinner');\n",
              "      try {\n",
              "        const charts = await google.colab.kernel.invokeFunction(\n",
              "            'suggestCharts', [key], {});\n",
              "      } catch (error) {\n",
              "        console.error('Error during call to suggestCharts:', error);\n",
              "      }\n",
              "      quickchartButtonEl.classList.remove('colab-df-spinner');\n",
              "      quickchartButtonEl.classList.add('colab-df-quickchart-complete');\n",
              "    }\n",
              "    (() => {\n",
              "      let quickchartButtonEl =\n",
              "        document.querySelector('#df-0790e3a8-e7b4-442e-846d-bb01e9c70ef7 button');\n",
              "      quickchartButtonEl.style.display =\n",
              "        google.colab.kernel.accessAllowed ? 'block' : 'none';\n",
              "    })();\n",
              "  </script>\n",
              "</div>\n",
              "\n",
              "    </div>\n",
              "  </div>\n"
            ],
            "application/vnd.google.colaboratory.intrinsic+json": {
              "type": "dataframe",
              "variable_name": "df",
              "summary": "{\n  \"name\": \"df\",\n  \"rows\": 350,\n  \"fields\": [\n    {\n      \"column\": \"Customer ID\",\n      \"properties\": {\n        \"dtype\": \"number\",\n        \"std\": 101,\n        \"min\": 101,\n        \"max\": 450,\n        \"num_unique_values\": 350,\n        \"samples\": [\n          258,\n          442,\n          416\n        ],\n        \"semantic_type\": \"\",\n        \"description\": \"\"\n      }\n    },\n    {\n      \"column\": \"Gender\",\n      \"properties\": {\n        \"dtype\": \"category\",\n        \"num_unique_values\": 2,\n        \"samples\": [\n          \"Male\",\n          \"Female\"\n        ],\n        \"semantic_type\": \"\",\n        \"description\": \"\"\n      }\n    },\n    {\n      \"column\": \"Age\",\n      \"properties\": {\n        \"dtype\": \"number\",\n        \"std\": 4,\n        \"min\": 26,\n        \"max\": 43,\n        \"num_unique_values\": 16,\n        \"samples\": [\n          29,\n          34\n        ],\n        \"semantic_type\": \"\",\n        \"description\": \"\"\n      }\n    },\n    {\n      \"column\": \"City\",\n      \"properties\": {\n        \"dtype\": \"category\",\n        \"num_unique_values\": 6,\n        \"samples\": [\n          \"New York\",\n          \"Los Angeles\"\n        ],\n        \"semantic_type\": \"\",\n        \"description\": \"\"\n      }\n    },\n    {\n      \"column\": \"Membership Type\",\n      \"properties\": {\n        \"dtype\": \"category\",\n        \"num_unique_values\": 3,\n        \"samples\": [\n          \"Gold\",\n          \"Silver\"\n        ],\n        \"semantic_type\": \"\",\n        \"description\": \"\"\n      }\n    },\n    {\n      \"column\": \"Total Spend\",\n      \"properties\": {\n        \"dtype\": \"number\",\n        \"std\": 362.05869534746563,\n        \"min\": 410.8,\n        \"max\": 1520.1,\n        \"num_unique_values\": 76,\n        \"samples\": [\n          720.4,\n          440.9\n        ],\n        \"semantic_type\": \"\",\n        \"description\": \"\"\n      }\n    },\n    {\n      \"column\": \"Items Purchased\",\n      \"properties\": {\n        \"dtype\": \"number\",\n        \"std\": 4,\n        \"min\": 7,\n        \"max\": 21,\n        \"num_unique_values\": 15,\n        \"samples\": [\n          21,\n          16\n        ],\n        \"semantic_type\": \"\",\n        \"description\": \"\"\n      }\n    },\n    {\n      \"column\": \"Average Rating\",\n      \"properties\": {\n        \"dtype\": \"number\",\n        \"std\": 0.580538587146968,\n        \"min\": 3.0,\n        \"max\": 4.9,\n        \"num_unique_values\": 20,\n        \"samples\": [\n          4.6,\n          3.0\n        ],\n        \"semantic_type\": \"\",\n        \"description\": \"\"\n      }\n    },\n    {\n      \"column\": \"Discount Applied\",\n      \"properties\": {\n        \"dtype\": \"number\",\n        \"std\": 0,\n        \"min\": 0,\n        \"max\": 1,\n        \"num_unique_values\": 2,\n        \"samples\": [\n          0,\n          1\n        ],\n        \"semantic_type\": \"\",\n        \"description\": \"\"\n      }\n    },\n    {\n      \"column\": \"Days Since Last Purchase\",\n      \"properties\": {\n        \"dtype\": \"number\",\n        \"std\": 13,\n        \"min\": 9,\n        \"max\": 63,\n        \"num_unique_values\": 54,\n        \"samples\": [\n          41,\n          60\n        ],\n        \"semantic_type\": \"\",\n        \"description\": \"\"\n      }\n    },\n    {\n      \"column\": \"Satisfaction Level\",\n      \"properties\": {\n        \"dtype\": \"category\",\n        \"num_unique_values\": 3,\n        \"samples\": [\n          \"Satisfied\",\n          \"Neutral\"\n        ],\n        \"semantic_type\": \"\",\n        \"description\": \"\"\n      }\n    }\n  ]\n}"
            }
          },
          "metadata": {},
          "execution_count": 203
        }
      ]
    },
    {
      "cell_type": "code",
      "source": [
        "import matplotlib.pyplot as plt\n",
        "\n",
        "\n",
        "satisfaction_counts = df.groupby(['Membership Type', 'Satisfaction Level']).size().reset_index(name='Count')\n",
        "\n",
        "\n",
        "satisfaction_pivot = satisfaction_counts.pivot(index='Membership Type', columns='Satisfaction Level', values='Count').fillna(0)\n",
        "\n",
        "\n",
        "satisfaction_pivot.plot(kind='bar', stacked=False, figsize=(10, 7), edgecolor='black')\n",
        "\n",
        "plt.title('Number of Customers by Satisfaction Level and Membership Type')\n",
        "plt.xlabel('Membership Type')\n",
        "plt.ylabel('Number of Customers')\n",
        "plt.legend(title='Satisfaction Level', bbox_to_anchor=(1.05, 1), loc='upper left')\n",
        "plt.tight_layout()\n",
        "\n",
        "\n",
        "plt.show()\n"
      ],
      "metadata": {
        "colab": {
          "base_uri": "https://localhost:8080/",
          "height": 622
        },
        "id": "RQb3Vge5N0eR",
        "outputId": "2167188b-5643-4840-948a-2682614d524e"
      },
      "execution_count": null,
      "outputs": [
        {
          "output_type": "display_data",
          "data": {
            "text/plain": [
              "<Figure size 1000x700 with 1 Axes>"
            ],
            "image/png": "[encoded data removed]"
          },
          "metadata": {}
        }
      ]
    },
    {
      "cell_type": "code",
      "source": [
        "df.isna().sum()"
      ],
      "metadata": {
        "colab": {
          "base_uri": "https://localhost:8080/",
          "height": 429
        },
        "id": "FBmStEYlr1wa",
        "outputId": "759abe59-24a0-4251-a797-51824840dd88"
      },
      "execution_count": null,
      "outputs": [
        {
          "output_type": "execute_result",
          "data": {
            "text/plain": [
              "Customer ID                 0\n",
              "Gender                      0\n",
              "Age                         0\n",
              "City                        0\n",
              "Membership Type             0\n",
              "Total Spend                 0\n",
              "Items Purchased             0\n",
              "Average Rating              0\n",
              "Discount Applied            0\n",
              "Days Since Last Purchase    0\n",
              "Satisfaction Level          2\n",
              "dtype: int64"
            ],
            "text/html": [
              "<div>\n",
              "<style scoped>\n",
              "    .dataframe tbody tr th:only-of-type {\n",
              "        vertical-align: middle;\n",
              "    }\n",
              "\n",
              "    .dataframe tbody tr th {\n",
              "        vertical-align: top;\n",
              "    }\n",
              "\n",
              "    .dataframe thead th {\n",
              "        text-align: right;\n",
              "    }\n",
              "</style>\n",
              "<table border=\"1\" class=\"dataframe\">\n",
              "  <thead>\n",
              "    <tr style=\"text-align: right;\">\n",
              "      <th></th>\n",
              "      <th>0</th>\n",
              "    </tr>\n",
              "  </thead>\n",
              "  <tbody>\n",
              "    <tr>\n",
              "      <th>Customer ID</th>\n",
              "      <td>0</td>\n",
              "    </tr>\n",
              "    <tr>\n",
              "      <th>Gender</th>\n",
              "      <td>0</td>\n",
              "    </tr>\n",
              "    <tr>\n",
              "      <th>Age</th>\n",
              "      <td>0</td>\n",
              "    </tr>\n",
              "    <tr>\n",
              "      <th>City</th>\n",
              "      <td>0</td>\n",
              "    </tr>\n",
              "    <tr>\n",
              "      <th>Membership Type</th>\n",
              "      <td>0</td>\n",
              "    </tr>\n",
              "    <tr>\n",
              "      <th>Total Spend</th>\n",
              "      <td>0</td>\n",
              "    </tr>\n",
              "    <tr>\n",
              "      <th>Items Purchased</th>\n",
              "      <td>0</td>\n",
              "    </tr>\n",
              "    <tr>\n",
              "      <th>Average Rating</th>\n",
              "      <td>0</td>\n",
              "    </tr>\n",
              "    <tr>\n",
              "      <th>Discount Applied</th>\n",
              "      <td>0</td>\n",
              "    </tr>\n",
              "    <tr>\n",
              "      <th>Days Since Last Purchase</th>\n",
              "      <td>0</td>\n",
              "    </tr>\n",
              "    <tr>\n",
              "      <th>Satisfaction Level</th>\n",
              "      <td>2</td>\n",
              "    </tr>\n",
              "  </tbody>\n",
              "</table>\n",
              "</div><br><label><b>dtype:</b> int64</label>"
            ]
          },
          "metadata": {},
          "execution_count": 205
        }
      ]
    },
    {
      "cell_type": "code",
      "source": [
        "df=df.dropna()"
      ],
      "metadata": {
        "id": "paKXxVyav3yr"
      },
      "execution_count": null,
      "outputs": []
    },
    {
      "cell_type": "code",
      "source": [
        "df.isna().sum()"
      ],
      "metadata": {
        "colab": {
          "base_uri": "https://localhost:8080/",
          "height": 429
        },
        "id": "4Txk0iKH1Le7",
        "outputId": "63cec8bf-0d5c-4917-be3f-33c5152e60ab"
      },
      "execution_count": null,
      "outputs": [
        {
          "output_type": "execute_result",
          "data": {
            "text/plain": [
              "Customer ID                 0\n",
              "Gender                      0\n",
              "Age                         0\n",
              "City                        0\n",
              "Membership Type             0\n",
              "Total Spend                 0\n",
              "Items Purchased             0\n",
              "Average Rating              0\n",
              "Discount Applied            0\n",
              "Days Since Last Purchase    0\n",
              "Satisfaction Level          0\n",
              "dtype: int64"
            ],
            "text/html": [
              "<div>\n",
              "<style scoped>\n",
              "    .dataframe tbody tr th:only-of-type {\n",
              "        vertical-align: middle;\n",
              "    }\n",
              "\n",
              "    .dataframe tbody tr th {\n",
              "        vertical-align: top;\n",
              "    }\n",
              "\n",
              "    .dataframe thead th {\n",
              "        text-align: right;\n",
              "    }\n",
              "</style>\n",
              "<table border=\"1\" class=\"dataframe\">\n",
              "  <thead>\n",
              "    <tr style=\"text-align: right;\">\n",
              "      <th></th>\n",
              "      <th>0</th>\n",
              "    </tr>\n",
              "  </thead>\n",
              "  <tbody>\n",
              "    <tr>\n",
              "      <th>Customer ID</th>\n",
              "      <td>0</td>\n",
              "    </tr>\n",
              "    <tr>\n",
              "      <th>Gender</th>\n",
              "      <td>0</td>\n",
              "    </tr>\n",
              "    <tr>\n",
              "      <th>Age</th>\n",
              "      <td>0</td>\n",
              "    </tr>\n",
              "    <tr>\n",
              "      <th>City</th>\n",
              "      <td>0</td>\n",
              "    </tr>\n",
              "    <tr>\n",
              "      <th>Membership Type</th>\n",
              "      <td>0</td>\n",
              "    </tr>\n",
              "    <tr>\n",
              "      <th>Total Spend</th>\n",
              "      <td>0</td>\n",
              "    </tr>\n",
              "    <tr>\n",
              "      <th>Items Purchased</th>\n",
              "      <td>0</td>\n",
              "    </tr>\n",
              "    <tr>\n",
              "      <th>Average Rating</th>\n",
              "      <td>0</td>\n",
              "    </tr>\n",
              "    <tr>\n",
              "      <th>Discount Applied</th>\n",
              "      <td>0</td>\n",
              "    </tr>\n",
              "    <tr>\n",
              "      <th>Days Since Last Purchase</th>\n",
              "      <td>0</td>\n",
              "    </tr>\n",
              "    <tr>\n",
              "      <th>Satisfaction Level</th>\n",
              "      <td>0</td>\n",
              "    </tr>\n",
              "  </tbody>\n",
              "</table>\n",
              "</div><br><label><b>dtype:</b> int64</label>"
            ]
          },
          "metadata": {},
          "execution_count": 207
        }
      ]
    },
    {
      "cell_type": "code",
      "source": [
        "import matplotlib.pyplot as plt\n",
        "Q1 = df['Total Spend'].quantile(0.25)\n",
        "Q3 = df['Total Spend'].quantile(0.75)\n",
        "\n",
        "\n",
        "IQR = Q3 - Q1\n",
        "\n",
        "\n",
        "lower_bound = Q1 - 1.5 * IQR\n",
        "upper_bound = Q3 + 1.5 * IQR\n",
        "\n",
        "\n",
        "outliers = df[(df['Total Spend'] < lower_bound) | (df['Total Spend'] > upper_bound)]\n",
        "\n",
        "plt.hist(df['Total Spend'], bins=30, edgecolor='black')\n",
        "plt.title('Histogram of Total Purchases')\n",
        "plt.xlabel('Total Spend')\n",
        "plt.ylabel('Frequency')\n",
        "plt.show()\n",
        "\n",
        "print(f\"Number of outliers: {outliers.shape[0]}\")\n",
        "print(\"Outlier values:\\n\", outliers)"
      ],
      "metadata": {
        "colab": {
          "base_uri": "https://localhost:8080/",
          "height": 581
        },
        "id": "NH6Uw-H_1cti",
        "outputId": "fcf215ed-13b1-4e90-cd5c-7e1b86d8bf62"
      },
      "execution_count": null,
      "outputs": [
        {
          "output_type": "display_data",
          "data": {
            "text/plain": [
              "<Figure size 640x480 with 1 Axes>"
            ],
            "image/png": "[encoded data removed]"
          },
          "metadata": {}
        },
        {
          "output_type": "stream",
          "name": "stdout",
          "text": [
            "Number of outliers: 0\n",
            "Outlier values:\n",
            " Empty DataFrame\n",
            "Columns: [Customer ID, Gender, Age, City, Membership Type, Total Spend, Items Purchased, Average Rating, Discount Applied, Days Since Last Purchase, Satisfaction Level]\n",
            "Index: []\n"
          ]
        }
      ]
    },
    {
      "cell_type": "code",
      "source": [
        "\n",
        "gold_cust=df[df['Membership Type']==\"Gold\"]\n",
        "\n",
        "control_group = gold_cust[gold_cust['Discount Applied'] == 0]  # Customers without discounts\n",
        "treatment_group = gold_cust[gold_cust['Discount Applied'] == 1]  # Customers with discounts\n",
        "\n",
        "print(f\"Control group size: {control_group.shape[0]}\")\n",
        "print(f\"Treatment group size: {treatment_group.shape[0]}\")\n"
      ],
      "metadata": {
        "colab": {
          "base_uri": "https://localhost:8080/"
        },
        "id": "Qt-bMc1_7WB2",
        "outputId": "b5e86095-9b16-4024-fd55-e6c72132ceba"
      },
      "execution_count": null,
      "outputs": [
        {
          "output_type": "stream",
          "name": "stdout",
          "text": [
            "Control group size: 58\n",
            "Treatment group size: 59\n"
          ]
        }
      ]
    },
    {
      "cell_type": "code",
      "source": [
        "import matplotlib.pyplot as plt\n",
        "import seaborn as sns\n",
        "\n",
        "\n",
        "plt.figure(figsize=(10, 6))\n",
        "\n",
        "\n",
        "sns.boxplot(data=[control_group['Total Spend'], treatment_group['Total Spend']], palette=\"Set2\")\n",
        "plt.xticks([0, 1], ['Control', 'Treatment'])\n",
        "plt.title('Box Plot of Total Spend for Control and Treatment Groups')\n",
        "plt.ylabel('Total Spend')\n",
        "plt.show()\n",
        "\n",
        "Q1_control = control_group['Total Spend'].quantile(0.25)\n",
        "Q3_control = control_group['Total Spend'].quantile(0.75)\n",
        "IQR_control = Q3_control - Q1_control\n",
        "\n",
        "lower_bound_control = Q1_control - 1.5 * IQR_control\n",
        "upper_bound_control = Q3_control + 1.5 * IQR_control\n",
        "\n",
        "\n",
        "control_outliers = control_group[(control_group['Total Spend'] < lower_bound_control) | (control_group['Total Spend'] > upper_bound_control)]\n",
        "\n",
        "Q1_treatment = treatment_group['Total Spend'].quantile(0.25)\n",
        "Q3_treatment = treatment_group['Total Spend'].quantile(0.75)\n",
        "IQR_treatment = Q3_treatment - Q1_treatment\n",
        "\n",
        "lower_bound_treatment = Q1_treatment - 1.5 * IQR_treatment\n",
        "upper_bound_treatment = Q3_treatment + 1.5 * IQR_treatment\n",
        "\n",
        "treatment_outliers = treatment_group[(treatment_group['Total Spend'] < lower_bound_treatment) | (treatment_group['Total Spend'] > upper_bound_treatment)]\n",
        "\n",
        "print(f\"Number of outliers in Control group: {control_outliers.shape[0]}\")\n",
        "print(f\"Number of outliers in Treatment group: {treatment_outliers.shape[0]}\")\n"
      ],
      "metadata": {
        "colab": {
          "base_uri": "https://localhost:8080/",
          "height": 654
        },
        "id": "BBvhHk7H_Hl4",
        "outputId": "4bc5903b-0b5e-440f-f049-74152099680a"
      },
      "execution_count": null,
      "outputs": [
        {
          "output_type": "stream",
          "name": "stderr",
          "text": [
            "/usr/local/lib/python3.10/dist-packages/seaborn/_base.py:949: FutureWarning: When grouping with a length-1 list-like, you will need to pass a length-1 tuple to get_group in a future version of pandas. Pass `(name,)` instead of `name` to silence this warning.\n",
            "  data_subset = grouped_data.get_group(pd_key)\n",
            "/usr/local/lib/python3.10/dist-packages/seaborn/categorical.py:640: FutureWarning: SeriesGroupBy.grouper is deprecated and will be removed in a future version of pandas.\n",
            "  positions = grouped.grouper.result_index.to_numpy(dtype=float)\n"
          ]
        },
        {
          "output_type": "display_data",
          "data": {
            "text/plain": [
              "<Figure size 1000x600 with 1 Axes>"
            ],
            "image/png": "[encoded data removed]"
          },
          "metadata": {}
        },
        {
          "output_type": "stream",
          "name": "stdout",
          "text": [
            "Number of outliers in Control group: 9\n",
            "Number of outliers in Treatment group: 0\n"
          ]
        }
      ]
    },
    {
      "cell_type": "code",
      "source": [
        "\n",
        "control_groupnew = control_group[(control_group['Total Spend'] >= lower_bound_control) &\n",
        "                              (control_group['Total Spend'] <= upper_bound_control)]\n",
        "\n",
        "\n",
        "print(f\"Original Control group size: {len(control_group)}\")\n",
        "print(f\"Control group size after removing outliers: {len(control_groupnew)}\")\n"
      ],
      "metadata": {
        "colab": {
          "base_uri": "https://localhost:8080/"
        },
        "id": "4tzmJN-F_lGa",
        "outputId": "1250f05c-f862-4089-de62-c0a1cc410e9b"
      },
      "execution_count": null,
      "outputs": [
        {
          "output_type": "stream",
          "name": "stdout",
          "text": [
            "Original Control group size: 58\n",
            "Control group size after removing outliers: 49\n"
          ]
        }
      ]
    },
    {
      "cell_type": "code",
      "source": [
        "import numpy as np\n",
        "\n",
        "\n",
        "total_purchases = np.concatenate([control_groupnew, treatment_group])\n",
        "\n",
        "mean_control = np.mean(control_groupnew[\"Total Spend\"])\n",
        "mean_treatment = np.mean(treatment_group[\"Total Spend\"])\n",
        "observed_diff = mean_treatment - mean_control\n",
        "\n",
        "\n",
        "def perm_fun(purchases, n_control, n_treatment):\n",
        "    n = n_control + n_treatment\n",
        "    idx_treatment = np.random.choice(range(n), n_treatment, replace=False)\n",
        "    idx_control = np.setdiff1d(range(n), idx_treatment)\n",
        "\n",
        "\n",
        "    mean_diff = np.mean(purchases[idx_treatment]) - np.mean(purchases[idx_control])\n",
        "    return mean_diff\n",
        "\n",
        "\n",
        "perm_diffs = np.zeros(10000)\n",
        "\n",
        "\n",
        "for i in range(10000):\n",
        "    perm_diffs[i] = perm_fun(total_purchases[:, 0], len(control_groupnew), len(treatment_group))\n",
        "\n",
        "\n",
        "plt.hist(perm_diffs, bins=30, edgecolor='black')\n",
        "plt.axvline(x=observed_diff, color='red', linestyle='dashed', linewidth=2)\n",
        "plt.xlabel('Difference in Total Purchases')\n",
        "plt.title('Histogram of Permutation Differences')\n",
        "plt.show()\n",
        "\n",
        "p_value = np.mean(np.abs(perm_diffs) >= np.abs(observed_diff))\n",
        "print(f\"Observed difference in means: {observed_diff}\")\n",
        "print(f\"P-value from permutation test: {p_value}\")\n",
        "\n",
        "\n"
      ],
      "metadata": {
        "colab": {
          "base_uri": "https://localhost:8080/",
          "height": 508
        },
        "id": "CPWh_KWV-ubC",
        "outputId": "e759ea2f-52dc-4368-eae7-cfa1e0ccfff3"
      },
      "execution_count": null,
      "outputs": [
        {
          "output_type": "display_data",
          "data": {
            "text/plain": [
              "<Figure size 640x480 with 1 Axes>"
            ],
            "image/png": "[encoded data removed]"
          },
          "metadata": {}
        },
        {
          "output_type": "stream",
          "name": "stdout",
          "text": [
            "Observed difference in means: -310.9848149429263\n",
            "P-value from permutation test: 0.0\n"
          ]
        }
      ]
    },
    {
      "cell_type": "code",
      "source": [
        "\n",
        "p_value = np.mean(np.abs(perm_diffs) >= np.abs(observed_diff))\n",
        "print(f\"Observed difference in means: {observed_diff}\")\n",
        "print(f\"P-value from permutation test: {p_value}\")\n",
        "\n",
        "lower_bound = np.percentile(perm_diffs, 2.5)\n",
        "upper_bound = np.percentile(perm_diffs, 97.5)\n",
        "print(f\"95% Confidence Interval for the difference in means: ({lower_bound}, {upper_bound})\")"
      ],
      "metadata": {
        "colab": {
          "base_uri": "https://localhost:8080/"
        },
        "id": "zcsakhyrLDQV",
        "outputId": "112d72e7-1110-4fa3-d429-572b34e9a61f"
      },
      "execution_count": null,
      "outputs": [
        {
          "output_type": "stream",
          "name": "stdout",
          "text": [
            "Observed difference in means: -310.9848149429263\n",
            "P-value from permutation test: 0.0\n",
            "95% Confidence Interval for the difference in means: (-39.12867519889312, 39.28526461432034)\n"
          ]
        }
      ]
    },
    {
      "cell_type": "code",
      "source": [
        "def cliffs_delta(x, y):\n",
        "    n_x = len(x)\n",
        "    n_y = len(y)\n",
        "    greater = sum([1 if x_i > y_i else 0 for x_i in x for y_i in y])\n",
        "    less = sum([1 if x_i < y_i else 0 for x_i in x for y_i in y])\n",
        "\n",
        "    delta = (greater - less) / (n_x * n_y)\n",
        "    return delta\n",
        "\n",
        "\n",
        "cliff_delta = cliffs_delta(control_group['Total Spend'], treatment_group['Total Spend'])\n",
        "print(f\"Cliff's Delta: {cliff_delta}\")\n"
      ],
      "metadata": {
        "colab": {
          "base_uri": "https://localhost:8080/"
        },
        "id": "hz2L0H3DLWTt",
        "outputId": "1c524c7e-f120-4cd8-9cba-ec19596827c1"
      },
      "execution_count": null,
      "outputs": [
        {
          "output_type": "stream",
          "name": "stdout",
          "text": [
            "Cliff's Delta: 1.0\n"
          ]
        }
      ]
    },
    {
      "cell_type": "markdown",
      "source": [
        "Exhaustive permutation"
      ],
      "metadata": {
        "id": "ZQCKJGzZMGQA"
      }
    },
    {
      "cell_type": "markdown",
      "source": [
        "Further Analysis"
      ],
      "metadata": {
        "id": "xq9NGqk4IpGm"
      }
    },
    {
      "cell_type": "markdown",
      "source": [
        "silver customers"
      ],
      "metadata": {
        "id": "x6GT5LfUGb4Z"
      }
    },
    {
      "cell_type": "code",
      "source": [
        "sil_cust=df[df['Membership Type']==\"Silver\"]\n",
        "\n",
        "control_group = sil_cust[sil_cust['Discount Applied'] == 0]  # Customers without discounts\n",
        "treatment_group = sil_cust[sil_cust['Discount Applied'] == 1]  # Customers with discounts\n",
        "\n",
        "print(f\"Control group size: {control_group.shape[0]}\")\n",
        "print(f\"Treatment group size: {treatment_group.shape[0]}\")"
      ],
      "metadata": {
        "colab": {
          "base_uri": "https://localhost:8080/"
        },
        "id": "9G4C_kYxGbGA",
        "outputId": "178ee0cc-7eb0-4096-8a7f-f9cd1f3b9ba3"
      },
      "execution_count": null,
      "outputs": [
        {
          "output_type": "stream",
          "name": "stdout",
          "text": [
            "Control group size: 59\n",
            "Treatment group size: 58\n"
          ]
        }
      ]
    },
    {
      "cell_type": "code",
      "source": [
        "import numpy as np\n",
        "import matplotlib.pyplot as plt\n",
        "\n",
        "\n",
        "mean_control = np.mean(control_group[\"Total Spend\"])\n",
        "mean_treatment = np.mean(treatment_group[\"Total Spend\"])\n",
        "observed_diff = mean_treatment - mean_control\n",
        "\n",
        "\n",
        "def perm_fun(purchases, n_control, n_treatment):\n",
        "    n = n_control + n_treatment\n",
        "    idx_treatment = np.random.choice(range(n), n_treatment, replace=False)\n",
        "    idx_control = np.setdiff1d(range(n), idx_treatment)\n",
        "\n",
        "    mean_diff = np.mean(purchases[idx_treatment]) - np.mean(purchases[idx_control])\n",
        "    return mean_diff\n",
        "\n",
        "total_purchases = np.concatenate([control_group['Total Spend'].values, treatment_group['Total Spend'].values])\n",
        "\n",
        "perm_diffs = np.zeros(10000)\n",
        "\n",
        "\n",
        "for i in range(10000):\n",
        "    perm_diffs[i] = perm_fun(total_purchases, len(control_group), len(treatment_group))\n",
        "\n",
        "\n",
        "plt.hist(perm_diffs, bins=30, edgecolor='black')\n",
        "plt.axvline(x=observed_diff, color='red', linestyle='dashed', linewidth=2)\n",
        "plt.xlabel('Difference in Total Purchases')\n",
        "plt.title('Histogram of Permutation Differences')\n",
        "plt.show()\n",
        "\n",
        "\n",
        "p_value = np.mean(np.abs(perm_diffs) >= np.abs(observed_diff))\n",
        "print(f\"Observed difference in means: {observed_diff}\")\n",
        "print(f\"P-value from permutation test: {p_value}\")\n"
      ],
      "metadata": {
        "colab": {
          "base_uri": "https://localhost:8080/",
          "height": 508
        },
        "id": "z1GRRkjxH_6M",
        "outputId": "57dfacbf-7fb8-42aa-84e4-b0a2fecfe81e"
      },
      "execution_count": null,
      "outputs": [
        {
          "output_type": "display_data",
          "data": {
            "text/plain": [
              "<Figure size 640x480 with 1 Axes>"
            ],
            "image/png": "[encoded data removed]"
          },
          "metadata": {}
        },
        {
          "output_type": "stream",
          "name": "stdout",
          "text": [
            "Observed difference in means: -115.10187025131495\n",
            "P-value from permutation test: 0.0\n"
          ]
        }
      ]
    },
    {
      "cell_type": "code",
      "source": [
        "\n",
        "p_value = np.mean(np.abs(perm_diffs) >= np.abs(observed_diff))\n",
        "print(f\"Observed difference in means: {observed_diff}\")\n",
        "print(f\"P-value from permutation test: {p_value}\")\n",
        "\n",
        "# Calculate the 95% confidence interval from the permutation distribution\n",
        "lower_bound = np.percentile(perm_diffs, 2.5)\n",
        "upper_bound = np.percentile(perm_diffs, 97.5)\n",
        "print(f\"95% Confidence Interval for the difference in means: ({lower_bound}, {upper_bound})\")"
      ],
      "metadata": {
        "colab": {
          "base_uri": "https://localhost:8080/"
        },
        "id": "xJ_F_sNxRSrR",
        "outputId": "3ca521ca-b5d5-49c2-c844-339f417069f4"
      },
      "execution_count": null,
      "outputs": [
        {
          "output_type": "stream",
          "name": "stdout",
          "text": [
            "Observed difference in means: -115.10187025131495\n",
            "P-value from permutation test: 0.0\n",
            "95% Confidence Interval for the difference in means: (-21.96190385739343, 22.20405756867322)\n"
          ]
        }
      ]
    },
    {
      "cell_type": "code",
      "source": [
        "def cliffs_delta(x, y):\n",
        "    n_x = len(x)\n",
        "    n_y = len(y)\n",
        "    greater = sum([1 if x_i > y_i else 0 for x_i in x for y_i in y])\n",
        "    less = sum([1 if x_i < y_i else 0 for x_i in x for y_i in y])\n",
        "\n",
        "    delta = (greater - less) / (n_x * n_y)\n",
        "    return delta\n",
        "\n",
        "cliff_delta = cliffs_delta(control_group['Total Spend'], treatment_group['Total Spend'])\n",
        "print(f\"Cliff's Delta: {cliff_delta}\")"
      ],
      "metadata": {
        "colab": {
          "base_uri": "https://localhost:8080/"
        },
        "id": "BucvzGDXRau2",
        "outputId": "792a56fe-df33-46f0-bdf1-858d7db46f46"
      },
      "execution_count": null,
      "outputs": [
        {
          "output_type": "stream",
          "name": "stdout",
          "text": [
            "Cliff's Delta: 1.0\n"
          ]
        }
      ]
    },
    {
      "cell_type": "markdown",
      "source": [
        "Bronze"
      ],
      "metadata": {
        "id": "QQ-f-N-pJb4o"
      }
    },
    {
      "cell_type": "code",
      "source": [
        "Bronze_cust=df[df['Membership Type']==\"Bronze\"]\n",
        "\n",
        "control_group = Bronze_cust[Bronze_cust['Discount Applied'] == 0]  # Customers without discounts\n",
        "treatment_group = Bronze_cust[Bronze_cust['Discount Applied'] == 1]  # Customers with discounts\n",
        "\n",
        "print(f\"Control group size: {control_group.shape[0]}\")\n",
        "print(f\"Treatment group size: {treatment_group.shape[0]}\")"
      ],
      "metadata": {
        "colab": {
          "base_uri": "https://localhost:8080/"
        },
        "id": "KCRJ4p4KKDYZ",
        "outputId": "eeeacc70-f78c-4b4b-f713-463140b890b9"
      },
      "execution_count": null,
      "outputs": [
        {
          "output_type": "stream",
          "name": "stdout",
          "text": [
            "Control group size: 56\n",
            "Treatment group size: 58\n"
          ]
        }
      ]
    },
    {
      "cell_type": "code",
      "source": [
        "\n",
        "mean_control = np.mean(control_group[\"Total Spend\"])\n",
        "mean_treatment = np.mean(treatment_group[\"Total Spend\"])\n",
        "observed_diff = mean_treatment - mean_control\n",
        "\n",
        "\n",
        "def perm_fun(purchases, n_control, n_treatment):\n",
        "    n = n_control + n_treatment\n",
        "    idx_treatment = np.random.choice(range(n), n_treatment, replace=False)\n",
        "    idx_control = np.setdiff1d(range(n), idx_treatment)\n",
        "\n",
        "\n",
        "    mean_diff = np.mean(purchases[idx_treatment]) - np.mean(purchases[idx_control])\n",
        "    return mean_diff\n",
        "\n",
        "total_purchases = Bronze_cust[\"Total Spend\"].values\n",
        "\n",
        "\n",
        "perm_diffs = np.zeros(10000)\n",
        "\n",
        "\n",
        "for i in range(10000):\n",
        "    perm_diffs[i] = perm_fun(total_purchases, len(control_group), len(treatment_group))\n",
        "\n",
        "\n",
        "plt.hist(perm_diffs, bins=30, edgecolor='black')\n",
        "plt.axvline(x=observed_diff, color='red', linestyle='dashed', linewidth=2)\n",
        "plt.xlabel('Difference in Total Purchases')\n",
        "plt.title('Histogram of Permutation Differences')\n",
        "plt.show()\n",
        "\n",
        "\n",
        "p_value = np.mean(np.abs(perm_diffs) >= np.abs(observed_diff))\n",
        "print(f\"Observed difference in means: {observed_diff}\")\n",
        "print(f\"P-value from permutation test: {p_value}\")"
      ],
      "metadata": {
        "colab": {
          "base_uri": "https://localhost:8080/",
          "height": 508
        },
        "id": "6g3WO-SwKVyA",
        "outputId": "dbfeec53-b048-4f1f-b55d-c9b7e3255386"
      },
      "execution_count": null,
      "outputs": [
        {
          "output_type": "display_data",
          "data": {
            "text/plain": [
              "<Figure size 640x480 with 1 Axes>"
            ],
            "image/png": "[encoded data removed]"
          },
          "metadata": {}
        },
        {
          "output_type": "stream",
          "name": "stdout",
          "text": [
            "Observed difference in means: 52.23454433497534\n",
            "P-value from permutation test: 0.0\n"
          ]
        }
      ]
    },
    {
      "cell_type": "code",
      "source": [
        "\n",
        "\n",
        "p_value = np.mean(np.abs(perm_diffs) >= np.abs(observed_diff))\n",
        "print(f\"Observed difference in means: {observed_diff}\")\n",
        "print(f\"P-value from permutation test: {p_value}\")\n",
        "\n",
        "# Calculate the 95% confidence interval from the permutation distribution\n",
        "lower_bound = np.percentile(perm_diffs, 2.5)\n",
        "upper_bound = np.percentile(perm_diffs, 97.5)\n",
        "print(f\"95% Confidence Interval for the difference in means: ({lower_bound}, {upper_bound})\")"
      ],
      "metadata": {
        "colab": {
          "base_uri": "https://localhost:8080/"
        },
        "id": "x0hCnjlsUj1A",
        "outputId": "235fa6ff-8320-4498-d2cb-502334ac8766"
      },
      "execution_count": null,
      "outputs": [
        {
          "output_type": "stream",
          "name": "stdout",
          "text": [
            "Observed difference in means: 52.23454433497534\n",
            "P-value from permutation test: 0.0\n",
            "95% Confidence Interval for the difference in means: (-11.420179341133052, 11.525567272167494)\n"
          ]
        }
      ]
    },
    {
      "cell_type": "code",
      "source": [
        "def cliffs_delta(x, y):\n",
        "    n_x = len(x)\n",
        "    n_y = len(y)\n",
        "    greater = sum([1 if x_i > y_i else 0 for x_i in x for y_i in y])\n",
        "    less = sum([1 if x_i < y_i else 0 for x_i in x for y_i in y])\n",
        "\n",
        "    delta = (greater - less) / (n_x * n_y)\n",
        "    return delta\n",
        "\n",
        "\n",
        "cliff_delta = cliffs_delta(control_group['Total Spend'], treatment_group['Total Spend'])\n",
        "print(f\"Cliff's Delta: {cliff_delta}\")"
      ],
      "metadata": {
        "colab": {
          "base_uri": "https://localhost:8080/"
        },
        "id": "mwLdoU-BUTd-",
        "outputId": "f3d8c543-64b7-4f31-c576-b0b0ee791281"
      },
      "execution_count": null,
      "outputs": [
        {
          "output_type": "stream",
          "name": "stdout",
          "text": [
            "Cliff's Delta: -0.9932266009852216\n"
          ]
        }
      ]
    }
  ]
}